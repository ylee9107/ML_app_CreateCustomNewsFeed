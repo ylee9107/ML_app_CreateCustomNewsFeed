{
 "cells": [
  {
   "cell_type": "markdown",
   "metadata": {},
   "source": [
    "# ML App to Create a Custom Newsfeed\n",
    "\n",
    "## Introduction:\n",
    "\n",
    "Reading is an excellent way to fill in any knowledge gap. It is even better if there is a way to enchance this experience whereby to quickly get a customised newsfeed tailored to the reader's interests. This project/app aims to help frequent readers such as myself to find even more to read or rather, to satisfy curiousities on certain topics. It can be seen as beneficial to have what you want to read without going through the hassle of digging for it. \n",
    "\n",
    "Hopefully by the end of this project, a system can be built that is able to understand a tailored taste in news and be able to send them directly to the user.\n",
    "\n",
    "## Breakdown of the Project:\n",
    "- Making a supervised training set with the Pocket App.\n",
    "- Utilising the Pocket API to obtain stories.\n",
    "- Making use of the Embedly API to extract story bodies.\n",
    "- Basics of NLP (Natural Language Processing)\n",
    "- Classifiers such as SVM (Support Vector Machines)\n",
    "- IFTTT will be integrated with RSS feeds and Google Sheets.\n",
    "- Setup a system for a daily personal newsletters"
   ]
  },
  {
   "cell_type": "markdown",
   "metadata": {},
   "source": [
    "## Installing Pocket Chrome Extension for this project:\n",
    "\n",
    "The Pocket app/extension allows for saving personalised stories to be read later on. The stories can be linked to tags, and these tags can be different to every user. From this, the idea is to use to to tag 'y' for interesting topics while 'n' for non-interesting topics. Usage of the Pocket app/extension to help create a __supervised training__ set for the model.\n",
    "\n",
    "Setup and example of usage:\n",
    "1. Open Chrome, and add Pocket app in the Extensions.\n",
    "2. Open any link of interest.\n",
    "3. Click on the Pocket extension icon, once red, it means the article or link have been saved.\n",
    "\n",
    "To begin constructing the supervised dataset:\n",
    "1. As you go through your day, read your articles.\n",
    "2. Tag 'y' for interesting ones, and tag 'n' for non-interesting ones.\n",
    "3. Note: it is better to have lots (100s) of articles to make the model better.\n",
    "\n",
    "Retrive the save stories:\n",
    "1. Go to: https://getpocket.com/developer/apps/new\n",
    "2. Click on 'Create a New App' in the top left corner of the webpage.\n",
    "3. Input the details and get the API KEY.\n",
    "4. Be sure to click on all the Permissions (allows for adding, changing and retrieving)\n",
    "5. Once done, click to submit.\n",
    "6. Click on 'My Apps' in the top left corner fo the webpage and you will see the custom applications.\n",
    "\n",
    "After these, move on to the next stage which is the code below."
   ]
  },
  {
   "cell_type": "markdown",
   "metadata": {},
   "source": [
    "## 1 Import the required Libraries:"
   ]
  },
  {
   "cell_type": "code",
   "execution_count": 1,
   "metadata": {},
   "outputs": [],
   "source": [
    "import numpy as np\n",
    "import pandas as pd\n",
    "import requests\n",
    "import json\n",
    "import os"
   ]
  },
  {
   "cell_type": "markdown",
   "metadata": {},
   "source": [
    "## 2 Setup Authorisations:\n",
    "\n",
    "This section requires the Pocket API key (consumer key) and a redirect URL. Note that the redirect URL can be anything here. For example, it can be a twitter account  or otherwise. For more information on Redirect URL: https://www.hostgator.com/blog/ways-redirect-website-url/.\n",
    "\n",
    "In this case, a twitter account was used."
   ]
  },
  {
   "cell_type": "code",
   "execution_count": 2,
   "metadata": {},
   "outputs": [],
   "source": [
    "pd.set_option('display.max_colwidth', 200)\n",
    "\n",
    "# Get Pocket API Key:\n",
    "def get_API_KEY(APIKEY_fileName):\n",
    "    currentDirectory = os.getcwd()\n",
    "    path_to_API_KEY = currentDirectory + '/' + APIKEY_fileName\n",
    "    API_KEY_file = open(path_to_API_KEY)\n",
    "    \n",
    "    API_KEY = []\n",
    "    for i in API_KEY_file:\n",
    "        API_KEY.append(i)\n",
    "    \n",
    "    return str(API_KEY[0])"
   ]
  },
  {
   "cell_type": "code",
   "execution_count": 3,
   "metadata": {},
   "outputs": [
    {
     "name": "stdout",
     "output_type": "stream",
     "text": [
      "89714-63913284a8c8d0a2e346b63d\n"
     ]
    }
   ],
   "source": [
    "pocket_API_key = get_API_KEY('Pocket API Key.txt')\n",
    "print(pocket_API_key)"
   ]
  },
  {
   "cell_type": "code",
   "execution_count": 4,
   "metadata": {},
   "outputs": [],
   "source": [
    "# Get Redirect URL from text file:\n",
    "def get_REDIRECT_URL(RURL_fileName):\n",
    "    currentDirectory = os.getcwd()\n",
    "    RURL_path = currentDirectory + '/' + RURL_fileName\n",
    "    URL_file = open(RURL_path)\n",
    "    \n",
    "    RedirectURL = []\n",
    "    for i in URL_file:\n",
    "        RedirectURL.append(i)\n",
    "    \n",
    "    return str(RedirectURL[0])"
   ]
  },
  {
   "cell_type": "code",
   "execution_count": 5,
   "metadata": {},
   "outputs": [
    {
     "name": "stdout",
     "output_type": "stream",
     "text": [
      "https://www.twitter.com/YSLee65720613\n"
     ]
    }
   ],
   "source": [
    "Redirect_URL_key = get_REDIRECT_URL('TwitterAccount.txt')\n",
    "print(Redirect_URL_key)"
   ]
  },
  {
   "cell_type": "code",
   "execution_count": 6,
   "metadata": {},
   "outputs": [
    {
     "name": "stdout",
     "output_type": "stream",
     "text": [
      "Access code is: \n",
      "code=8091ee4b-9542-1e6c-bcdb-41dd1b\n"
     ]
    }
   ],
   "source": [
    "# Authentication Parameters:\n",
    "auth_params = {'consumer_key': pocket_API_key, 'redirect_uri': Redirect_URL_key}\n",
    "\n",
    "token = requests.post('https://getpocket.com/v3/oauth/request', data = auth_params)\n",
    "\n",
    "print('Access code is: ')\n",
    "print(token.text)"
   ]
  },
  {
   "cell_type": "markdown",
   "metadata": {},
   "source": [
    "#### Next, is to copy the following output link and AUTHORISE it:"
   ]
  },
  {
   "cell_type": "code",
   "execution_count": 7,
   "metadata": {},
   "outputs": [
    {
     "name": "stdout",
     "output_type": "stream",
     "text": [
      "https://getpocket.com/auth/authorize?request_token=8091ee4b-9542-1e6c-bcdb-41dd1b&redirect_uri=https%3A//www.twitter.com/YSLee65720613\n"
     ]
    }
   ],
   "source": [
    "# Generate the new output link:\n",
    "auth_Link = 'https://getpocket.com/auth/authorize?request_token=' + token.text.strip('code=') + '&redirect_uri=https%3A//' + Redirect_URL_key.strip('https://')\n",
    "print(auth_Link)"
   ]
  },
  {
   "cell_type": "markdown",
   "metadata": {},
   "source": [
    "#### This is then followed by Parsing out the access code:"
   ]
  },
  {
   "cell_type": "code",
   "execution_count": 11,
   "metadata": {},
   "outputs": [
    {
     "name": "stdout",
     "output_type": "stream",
     "text": [
      "User code is: \n",
      "access_token=c3427703-c4f7-a7cc-4470-502f4a&username=ylee9106%40gmail.com\n"
     ]
    }
   ],
   "source": [
    "# Parsing out the access vode from token.text string;\n",
    "access_code = token.text.split('=')[1]\n",
    "\n",
    "user_params = {'consumer_key': pocket_API_key, 'code': access_code}\n",
    "\n",
    "user = requests.post('https://getpocket.com/v3/oauth/authorize', data = user_params)\n",
    "\n",
    "print('User code is: ')\n",
    "print(user.text)"
   ]
  },
  {
   "cell_type": "markdown",
   "metadata": {},
   "source": [
    "## 3 Retrieving the Saved Online Articles: \n",
    "\n",
    "Utilising the output 'User Code' above, the taged stories can be retrieved. \n",
    "\n",
    "### 3.1 Begin with 'n' tags:"
   ]
  },
  {
   "cell_type": "code",
   "execution_count": null,
   "metadata": {},
   "outputs": [],
   "source": []
  },
  {
   "cell_type": "code",
   "execution_count": null,
   "metadata": {},
   "outputs": [],
   "source": []
  },
  {
   "cell_type": "code",
   "execution_count": null,
   "metadata": {},
   "outputs": [],
   "source": []
  },
  {
   "cell_type": "code",
   "execution_count": null,
   "metadata": {},
   "outputs": [],
   "source": []
  },
  {
   "cell_type": "code",
   "execution_count": null,
   "metadata": {},
   "outputs": [],
   "source": []
  },
  {
   "cell_type": "code",
   "execution_count": null,
   "metadata": {},
   "outputs": [],
   "source": []
  },
  {
   "cell_type": "code",
   "execution_count": null,
   "metadata": {},
   "outputs": [],
   "source": []
  },
  {
   "cell_type": "code",
   "execution_count": null,
   "metadata": {},
   "outputs": [],
   "source": []
  },
  {
   "cell_type": "code",
   "execution_count": null,
   "metadata": {},
   "outputs": [],
   "source": []
  },
  {
   "cell_type": "code",
   "execution_count": null,
   "metadata": {},
   "outputs": [],
   "source": []
  },
  {
   "cell_type": "code",
   "execution_count": null,
   "metadata": {},
   "outputs": [],
   "source": []
  },
  {
   "cell_type": "code",
   "execution_count": null,
   "metadata": {},
   "outputs": [],
   "source": []
  },
  {
   "cell_type": "code",
   "execution_count": null,
   "metadata": {},
   "outputs": [],
   "source": []
  },
  {
   "cell_type": "code",
   "execution_count": null,
   "metadata": {},
   "outputs": [],
   "source": []
  },
  {
   "cell_type": "code",
   "execution_count": null,
   "metadata": {},
   "outputs": [],
   "source": []
  },
  {
   "cell_type": "code",
   "execution_count": null,
   "metadata": {},
   "outputs": [],
   "source": []
  },
  {
   "cell_type": "code",
   "execution_count": null,
   "metadata": {},
   "outputs": [],
   "source": []
  },
  {
   "cell_type": "code",
   "execution_count": null,
   "metadata": {},
   "outputs": [],
   "source": []
  },
  {
   "cell_type": "code",
   "execution_count": null,
   "metadata": {},
   "outputs": [],
   "source": []
  },
  {
   "cell_type": "code",
   "execution_count": null,
   "metadata": {},
   "outputs": [],
   "source": []
  },
  {
   "cell_type": "code",
   "execution_count": null,
   "metadata": {},
   "outputs": [],
   "source": []
  },
  {
   "cell_type": "code",
   "execution_count": null,
   "metadata": {},
   "outputs": [],
   "source": []
  },
  {
   "cell_type": "code",
   "execution_count": null,
   "metadata": {},
   "outputs": [],
   "source": []
  },
  {
   "cell_type": "code",
   "execution_count": null,
   "metadata": {},
   "outputs": [],
   "source": []
  },
  {
   "cell_type": "code",
   "execution_count": null,
   "metadata": {},
   "outputs": [],
   "source": []
  },
  {
   "cell_type": "code",
   "execution_count": null,
   "metadata": {},
   "outputs": [],
   "source": []
  },
  {
   "cell_type": "code",
   "execution_count": null,
   "metadata": {},
   "outputs": [],
   "source": []
  },
  {
   "cell_type": "code",
   "execution_count": null,
   "metadata": {},
   "outputs": [],
   "source": []
  },
  {
   "cell_type": "code",
   "execution_count": null,
   "metadata": {},
   "outputs": [],
   "source": []
  },
  {
   "cell_type": "code",
   "execution_count": null,
   "metadata": {},
   "outputs": [],
   "source": []
  },
  {
   "cell_type": "code",
   "execution_count": null,
   "metadata": {},
   "outputs": [],
   "source": []
  },
  {
   "cell_type": "code",
   "execution_count": null,
   "metadata": {},
   "outputs": [],
   "source": []
  }
 ],
 "metadata": {
  "kernelspec": {
   "display_name": "Python 3",
   "language": "python",
   "name": "python3"
  },
  "language_info": {
   "codemirror_mode": {
    "name": "ipython",
    "version": 3
   },
   "file_extension": ".py",
   "mimetype": "text/x-python",
   "name": "python",
   "nbconvert_exporter": "python",
   "pygments_lexer": "ipython3",
   "version": "3.7.6"
  }
 },
 "nbformat": 4,
 "nbformat_minor": 4
}
